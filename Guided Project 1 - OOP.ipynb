{
 "cells": [
  {
   "cell_type": "markdown",
   "id": "1393a2c7",
   "metadata": {},
   "source": [
    "First, we'll create two objects, one for each dataset."
   ]
  },
  {
   "cell_type": "code",
   "execution_count": 7,
   "id": "f79d6539",
   "metadata": {},
   "outputs": [
    {
     "name": "stdout",
     "output_type": "stream",
     "text": [
      "Photo Editor & Candy Camera & Grid & ScrapBook\n",
      "ART_AND_DESIGN\n",
      "4.1\n",
      "159\n",
      "1.0.0\n",
      "Number of rows: 10841\n"
     ]
    }
   ],
   "source": [
    "# Dataset class\n",
    "class AndroidDataset():\n",
    "    \n",
    "    def __init__(self, row):\n",
    "        self.app      = row[0]\n",
    "        self.category   = row[1]\n",
    "        self.rating    = row[2]\n",
    "        self.reviews = row[3]\n",
    "        self.size = row[4]\n",
    "        self.installs = row[5]\n",
    "        self.type = row[6]\n",
    "        self.price = row[7]\n",
    "        self.content_rating = row[8]\n",
    "        self.genres = row[9]\n",
    "        self.last_updated = row[10]\n",
    "        self.current_ver = row[11]\n",
    "        # self.android_ver = row[12]\n",
    "\n",
    "# Read the dataset and create App instances\n",
    "android = []\n",
    "import csv\n",
    "with open('googleplaystore.csv', encoding='utf8') as f:\n",
    "    reader = csv.reader(f)\n",
    "    rows = list(reader)\n",
    "    for row in rows[1:]:\n",
    "        android_app = AndroidDataset(row)\n",
    "        android.append(android_app)\n",
    "\n",
    "# Solution testing\n",
    "first = android[0]\n",
    "print(first.app)\n",
    "print(first.category)\n",
    "print(first.rating)\n",
    "print(first.reviews)\n",
    "print(first.current_ver)\n",
    "\n",
    "# Number of rows\n",
    "print('Number of rows:', len(android))"
   ]
  },
  {
   "cell_type": "code",
   "execution_count": 14,
   "id": "bc68f71b",
   "metadata": {},
   "outputs": [
    {
     "name": "stdout",
     "output_type": "stream",
     "text": [
      "284882215\n",
      "Facebook\n",
      "389879808\n",
      "USD\n",
      "0.0\n",
      "Number of rows: 7197\n"
     ]
    }
   ],
   "source": [
    "# Dataset class\n",
    "class IosDataset():\n",
    "    \n",
    "    def __init__(self, row):\n",
    "        self.id      = row[0]\n",
    "        self.track_name   = row[1]\n",
    "        self.size_bytes    = row[2]\n",
    "        self.currency = row[3]\n",
    "        self.price = row[4]\n",
    "        self.rating_count_tot = row[5]\n",
    "        self.rating_count_ver = row[6]\n",
    "        self.user_rating = row[7]\n",
    "        self.user_rating_ver = row[8]\n",
    "        self.ver = row[9]\n",
    "        self.cont_rating = row[10]\n",
    "        self.prime_genre = row[11]\n",
    "        #self.sup_devices.num = row[12]\n",
    "        #self.ipadSc_urls.num = row[13]\n",
    "        #self.lang.num = row[14]\n",
    "        #self.vpp_lic = row[15]\n",
    "\n",
    "# Read the dataset and create App instances\n",
    "ios = []\n",
    "import csv\n",
    "with open('AppleStore.csv', encoding='utf8') as f:\n",
    "    reader = csv.reader(f)\n",
    "    rows = list(reader)\n",
    "    for row in rows[1:]:\n",
    "        ios_app = IosDataset(row)\n",
    "        ios.append(ios_app)\n",
    "\n",
    "# Solution testing\n",
    "first = ios[0]\n",
    "print(first.id)\n",
    "print(first.track_name)\n",
    "print(first.size_bytes)\n",
    "print(first.currency)\n",
    "print(first.price)\n",
    "# Number of rows\n",
    "print('Number of rows:', len(ios))"
   ]
  },
  {
   "cell_type": "markdown",
   "id": "9d247a67",
   "metadata": {},
   "source": [
    "The Google Play dataset has a dedicated <a href=\"https://www.kaggle.com/lava18/google-play-store-apps/discussion\" target=\"_blank\">discussion section</a>, and we can see that one of the discussions describes an error for <a href=\"https://www.kaggle.com/datasets/lava18/google-play-store-apps/discussion/66015\" target=\"_blank\">row 10472</a>. In this row, there's no category for the app, which leads to a column missing. Because of that, we'll delete this row."
   ]
  },
  {
   "cell_type": "code",
   "execution_count": 19,
   "id": "25707f50",
   "metadata": {
    "scrolled": true
   },
   "outputs": [
    {
     "name": "stdout",
     "output_type": "stream",
     "text": [
      "10840\n",
      "10840\n"
     ]
    }
   ],
   "source": [
    "print(len(android))\n",
    "#del(android[10472])\n",
    "print(len(android))"
   ]
  },
  {
   "cell_type": "markdown",
   "id": "dbca697a",
   "metadata": {},
   "source": [
    "There's also some apps with more than one entry in the dataset, so we'll need to remove the duplicates in those situations. We can confirm this information in the code below:"
   ]
  },
  {
   "cell_type": "code",
   "execution_count": 47,
   "id": "e7bf8241",
   "metadata": {},
   "outputs": [
    {
     "name": "stdout",
     "output_type": "stream",
     "text": [
      "Number of duplicate apps: 1181\n"
     ]
    }
   ],
   "source": [
    "duplicate_apps = []\n",
    "unique_apps = []\n",
    "i = 0\n",
    "\n",
    "for app in android:\n",
    "    app_object = android[i]\n",
    "    name = app_object.app\n",
    "    if name in unique_apps:\n",
    "        duplicate_apps.append(name)\n",
    "    else:\n",
    "        unique_apps.append(name)\n",
    "    i += 1\n",
    "    \n",
    "print('Number of duplicate apps:', len(duplicate_apps))"
   ]
  },
  {
   "cell_type": "code",
   "execution_count": 58,
   "id": "50bf6fe4",
   "metadata": {},
   "outputs": [
    {
     "name": "stdout",
     "output_type": "stream",
     "text": [
      "66577313\n",
      "66577446\n",
      "66577313\n",
      "66509917\n"
     ]
    }
   ],
   "source": [
    "j = 0\n",
    "\n",
    "for app in android:\n",
    "    app_object = android[j]\n",
    "    name = app_object.app\n",
    "    if name == 'Instagram':\n",
    "        print(app_object.reviews)\n",
    "    j += 1"
   ]
  },
  {
   "cell_type": "markdown",
   "id": "6ffce66f",
   "metadata": {},
   "source": [
    "In the code above, we can see that the number of reviews are different: 66577313, 66577446, 66577313 and 66509917. The higher the number of reviews, the more recent the data should be, so we'll try and collect the more recent ones."
   ]
  },
  {
   "cell_type": "markdown",
   "id": "f0aec3f4",
   "metadata": {},
   "source": [
    "To remove the duplicates, we will do the following:\n",
    "\n",
    "* Create a dictionary, where each dictionary key is a unique app name and the corresponding dictionary value is the highest number of reviews of that app.\n",
    "* Use the information stored in the dictionary and create a new dataset, which will have only one entry per app (and for each app, we'll only select the entry with the highest number of reviews)."
   ]
  },
  {
   "cell_type": "code",
   "execution_count": 61,
   "id": "b20ed1c3",
   "metadata": {},
   "outputs": [
    {
     "name": "stdout",
     "output_type": "stream",
     "text": [
      "Expected length, without the duplicates: 9659\n",
      "Actual length: 9659\n"
     ]
    }
   ],
   "source": [
    "reviews_max = {}\n",
    "j = 0\n",
    "\n",
    "for app in android:\n",
    "    app_object = android[j]\n",
    "    name = app_object.app\n",
    "    n_reviews = float(app_object.reviews)\n",
    "    \n",
    "    if name in reviews_max and reviews_max[name] < n_reviews:\n",
    "        reviews_max[name] = n_reviews\n",
    "    elif name not in reviews_max:\n",
    "        reviews_max[name] = n_reviews\n",
    "    j += 1\n",
    "\n",
    "print('Expected length, without the duplicates:', len(android) - 1181)\n",
    "print('Actual length:', len(reviews_max))"
   ]
  },
  {
   "cell_type": "markdown",
   "id": "31a0d943",
   "metadata": {},
   "source": [
    "Now, we'll use the dictionary created above to remove the duplicate rows."
   ]
  },
  {
   "cell_type": "code",
   "execution_count": 64,
   "id": "c6b1330d",
   "metadata": {},
   "outputs": [
    {
     "name": "stdout",
     "output_type": "stream",
     "text": [
      "Our new dataset has 9659 rows.\n"
     ]
    }
   ],
   "source": [
    "android_clean = []\n",
    "already_added = []\n",
    "j = 0\n",
    "\n",
    "for app in android:\n",
    "    app_object = android[j]\n",
    "    name = app_object.app\n",
    "    n_reviews = float(app_object.reviews)\n",
    "    \n",
    "    if (n_reviews == reviews_max[name]) and (name not in already_added):\n",
    "        android_clean.append(app)\n",
    "        already_added.append(name)\n",
    "    \n",
    "    j += 1\n",
    "\n",
    "print('Our new dataset has', len(android_clean), 'rows.')"
   ]
  },
  {
   "cell_type": "markdown",
   "id": "05b388e6",
   "metadata": {},
   "source": [
    "In the previous step, we managed to remove the duplicate app entries in the Google Play dataset. Remember we use English for the apps we develop at our company, and we'd like to analyze only the apps that are designed for an English-speaking audience. However, if we explore the data long enough, we'll find that both datasets have apps with names that suggest they are not designed for an English-speaking audience. We're not interested in keeping these apps, so we'll remove them. We can do that by using the ASCII system, in which the characters we commonly use in an English text are all in the range 0 to 127."
   ]
  },
  {
   "cell_type": "code",
   "execution_count": 90,
   "id": "69f55048",
   "metadata": {},
   "outputs": [
    {
     "name": "stdout",
     "output_type": "stream",
     "text": [
      "True\n",
      "False\n",
      "True\n",
      "True\n"
     ]
    }
   ],
   "source": [
    "def string_english(string):\n",
    "    aux = 0\n",
    "    for char in string:\n",
    "        if ord(char) > 127:\n",
    "            aux +=1\n",
    "    if aux > 3:\n",
    "        return False\n",
    "    else:\n",
    "        return True\n",
    "        \n",
    "#Checking if the function is working properly\n",
    "print(string_english('Instagram'))\n",
    "print(string_english('爱奇艺PPS -《欢乐颂2》电视剧热播'))\n",
    "print(string_english('Docs To Go™ Free Office Suite'))\n",
    "print(string_english('Instachat 😜'))\n",
    "\n"
   ]
  },
  {
   "cell_type": "markdown",
   "id": "ac1c14ed",
   "metadata": {},
   "source": [
    "We can now use the function *string_english* to filter out non-English apps from both datasets."
   ]
  },
  {
   "cell_type": "code",
   "execution_count": 97,
   "id": "0cdc11b6",
   "metadata": {},
   "outputs": [
    {
     "name": "stdout",
     "output_type": "stream",
     "text": [
      "Number of rows: 9620\n",
      "Number of rows: 6183\n"
     ]
    }
   ],
   "source": [
    "android_english = []\n",
    "ios_english = []\n",
    "j = 0\n",
    "k = 0\n",
    "\n",
    "for app in android_clean:\n",
    "    app_object = android[j]\n",
    "    name = app_object.app\n",
    "    \n",
    "    if string_english(name):\n",
    "        android_english.append(app)\n",
    "    \n",
    "    j += 1\n",
    "\n",
    "for app in ios:\n",
    "    app_object = ios[k]\n",
    "    name = app_object.track_name\n",
    "    \n",
    "    if string_english(name):\n",
    "        ios_english.append(app)\n",
    "    \n",
    "    k += 1\n",
    "\n",
    "print('Number of rows:', len(android_english))\n",
    "print('Number of rows:', len(ios_english))"
   ]
  },
  {
   "cell_type": "markdown",
   "id": "9a55a1de",
   "metadata": {},
   "source": [
    "As the last step of our data cleaning process, we'll isolate the free apps."
   ]
  },
  {
   "cell_type": "code",
   "execution_count": 99,
   "id": "4aec50f5",
   "metadata": {},
   "outputs": [
    {
     "name": "stdout",
     "output_type": "stream",
     "text": [
      "8902\n",
      "3222\n"
     ]
    }
   ],
   "source": [
    "android_free = []\n",
    "ios_free = []\n",
    "j = 0\n",
    "k = 0\n",
    "\n",
    "for app in android_english:\n",
    "    app_object = android[j]\n",
    "    type_app = app_object.type\n",
    "    \n",
    "    if type_app == 'Free':\n",
    "        android_free.append(app)\n",
    "    \n",
    "    j += 1\n",
    "\n",
    "for app in ios_english:\n",
    "    price = app.price\n",
    "    \n",
    "    if price == '0.0':\n",
    "        ios_free.append(app)\n",
    "    \n",
    "    k += 1\n",
    "\n",
    "print(len(android_free))\n",
    "print(len(ios_free))"
   ]
  },
  {
   "cell_type": "markdown",
   "id": "2df74b40",
   "metadata": {},
   "source": [
    "We now have 8902 apps in Google Play and 3222 apps in App Store that we can use in our analysis."
   ]
  },
  {
   "cell_type": "markdown",
   "id": "7cc49598",
   "metadata": {},
   "source": [
    "As we mentioned in the introduction, our aim is to determine the kinds of apps that are likely to attract more users because our revenue is highly influenced by the number of people using our apps.\n",
    "\n",
    "To minimize risks and overhead, our validation strategy for an app idea is comprised of three steps:\n",
    "\n",
    "1. Build a minimal Android version of the app, and add it to Google Play.\n",
    "2. If the app has a good response from users, we then develop it further.\n",
    "3. If the app is profitable after six months, we also build an iOS version of the app and add it to the App Store.\n",
    "\n",
    "Our end goal is to add the app on both the App Store and Google Play, so we need to find app profiles that are successful on both markets. \n",
    "\n",
    "Let's begin the analysis by getting a sense of the most common genres for each market. We'll do that by creating an object for frequency tables."
   ]
  },
  {
   "cell_type": "code",
   "execution_count": null,
   "id": "9dcc7005",
   "metadata": {},
   "outputs": [],
   "source": [
    "class FreqTable():\n",
    "    def __init__(self):\n",
    "        self.count = {}\n",
    "    \n",
    "    def add(self, element):\n",
    "        if not element in self.count:\n",
    "            self.count[element] = 0\n",
    "        self.count[element] += 1\n",
    "        return self.count[element]\n",
    "    \n",
    "    def get_count(self, element):\n",
    "        if element not in self.count:\n",
    "            return 0\n",
    "        return self.count[element]\n",
    "    \n",
    "freq_table = FreqTable()"
   ]
  }
 ],
 "metadata": {
  "kernelspec": {
   "display_name": "Python 3 (ipykernel)",
   "language": "python",
   "name": "python3"
  },
  "language_info": {
   "codemirror_mode": {
    "name": "ipython",
    "version": 3
   },
   "file_extension": ".py",
   "mimetype": "text/x-python",
   "name": "python",
   "nbconvert_exporter": "python",
   "pygments_lexer": "ipython3",
   "version": "3.9.5"
  }
 },
 "nbformat": 4,
 "nbformat_minor": 5
}
